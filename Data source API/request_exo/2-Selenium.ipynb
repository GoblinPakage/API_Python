{
 "cells": [
  {
   "cell_type": "markdown",
   "id": "f7733f51",
   "metadata": {},
   "source": [
    "# Sélénium : Browser manipulation\n",
    "\n",
    "https://www.selenium.dev/documentation/en/\n",
    "\n",
    "Selenium is a portable framework for testing web applications.\n",
    "The purpose of Selenium is to automate user actions, thus interacting with the browser in order to navigate, click, type, and run multiple operations.\n",
    "\n",
    "These kind of tools can also be used to extract information from a website, and this behavior is called Web Scrapping.\n",
    "\n",
    "In France This could be condisedered as data stealing (article 323-3 du code Pénal) depending on the purpose and the usage of the extracted data.\n",
    "\n",
    "https://shanyitan.medium.com/how-to-install-selenium-and-run-it-successfully-via-jupyter-lab-c3f50d22a0d4\n",
    "\n",
    "https://selenium-python.readthedocs.io/\n",
    "\n",
    "https://www.geeksforgeeks.org/how-to-install-selenium-in-python/\n",
    "\n",
    "https://www.tutorialspoint.com/how-to-install-selenium-webdriver-on-mac-os\n",
    "\n",
    "https://timonweb.com/misc/fixing-error-chromedriver-cannot-be-opened-because-the-developer-cannot-be-verified-unable-to-launch-the-chrome-browser-on-mac-os/"
   ]
  },
  {
   "cell_type": "markdown",
   "id": "53dd3eff",
   "metadata": {},
   "source": [
    "## Basic usage"
   ]
  },
  {
   "cell_type": "code",
   "execution_count": 1,
   "id": "85858f02",
   "metadata": {},
   "outputs": [],
   "source": [
    "from selenium import webdriver\n",
    "\n",
    "\n",
    "browser = webdriver.Chrome()\n",
    "\n",
    "browser.quit()"
   ]
  },
  {
   "cell_type": "code",
   "execution_count": 7,
   "id": "afa47efd",
   "metadata": {},
   "outputs": [
    {
     "name": "stdout",
     "output_type": "stream",
     "text": [
      "https://www.selenium.dev/\n",
      "Selenium\n"
     ]
    }
   ],
   "source": [
    "SELENIUM_BASE_URL = \"https://selenium.dev\"\n",
    "\n",
    "browser = webdriver.Chrome()\n",
    "\n",
    "browser.get(SELENIUM_BASE_URL)\n",
    "\n",
    "print(browser.current_url)\n",
    "\n",
    "print(browser.title)\n",
    "\n",
    "browser.quit()"
   ]
  },
  {
   "cell_type": "code",
   "execution_count": 11,
   "id": "44cf62eb",
   "metadata": {
    "scrolled": true
   },
   "outputs": [
    {
     "name": "stdout",
     "output_type": "stream",
     "text": [
      "Selenium automates browsers. That's it!\n",
      "What you do with that power is entirely up to you.\n",
      "Primarily it is for automating web applications for testing purposes, but is certainly not limited to just that.\n",
      "Boring web-based administration tasks can (and should) also be automated as well.\n"
     ]
    }
   ],
   "source": [
    "from selenium.webdriver.common.by import By\n",
    "\n",
    "browser = webdriver.Chrome()\n",
    "browser.get(SELENIUM_BASE_URL)\n",
    "\n",
    "element = browser.find_element(By.CLASS_NAME, \"text-center\")\n",
    "print(element.text)\n",
    "\n",
    "browser.quit()\n",
    "\n"
   ]
  },
  {
   "cell_type": "markdown",
   "id": "791d3e6b",
   "metadata": {},
   "source": [
    "##### Exercice\n",
    "\n",
    "From the web site \"Ta météo\", try to retrieve the current temperature at Montpellier as an int"
   ]
  },
  {
   "cell_type": "code",
   "execution_count": 12,
   "id": "fd72ba07",
   "metadata": {},
   "outputs": [
    {
     "ename": "NameError",
     "evalue": "name 'montpellier_temperature' is not defined",
     "output_type": "error",
     "traceback": [
      "\u001b[0;31m---------------------------------------------------------------------------\u001b[0m",
      "\u001b[0;31mNameError\u001b[0m                                 Traceback (most recent call last)",
      "Cell \u001b[0;32mIn [12], line 7\u001b[0m\n\u001b[1;32m      1\u001b[0m \u001b[38;5;66;03m#Exercice\u001b[39;00m\n\u001b[1;32m      3\u001b[0m WEATHER_URL \u001b[38;5;241m=\u001b[39m \u001b[38;5;124m\"\u001b[39m\u001b[38;5;124mhttps://www.tameteo.com/meteo_Montpellier-Europe-France-Herault-LFMT-1-26126.html\u001b[39m\u001b[38;5;124m\"\u001b[39m\n\u001b[0;32m----> 7\u001b[0m \u001b[38;5;28;01massert\u001b[39;00m \u001b[38;5;28misinstance\u001b[39m(montpellier_temperature, \u001b[38;5;28mint\u001b[39m)\n\u001b[1;32m      8\u001b[0m \u001b[38;5;28mprint\u001b[39m(\u001b[38;5;124m\"\u001b[39m\u001b[38;5;124mok\u001b[39m\u001b[38;5;124m\"\u001b[39m)\n",
      "\u001b[0;31mNameError\u001b[0m: name 'montpellier_temperature' is not defined"
     ]
    }
   ],
   "source": [
    "#Exercice\n",
    "\n",
    "WEATHER_URL = \"https://www.tameteo.com/meteo_Montpellier-Europe-France-Herault-LFMT-1-26126.html\"\n",
    "\n",
    "\n",
    "\n",
    "assert isinstance(montpellier_temperature, int)\n",
    "print(\"ok\")"
   ]
  },
  {
   "cell_type": "code",
   "execution_count": null,
   "id": "8c72c6a8",
   "metadata": {},
   "outputs": [],
   "source": []
  }
 ],
 "metadata": {
  "kernelspec": {
   "display_name": "Python 3 (ipykernel)",
   "language": "python",
   "name": "python3"
  },
  "language_info": {
   "codemirror_mode": {
    "name": "ipython",
    "version": 3
   },
   "file_extension": ".py",
   "mimetype": "text/x-python",
   "name": "python",
   "nbconvert_exporter": "python",
   "pygments_lexer": "ipython3",
   "version": "3.9.14"
  }
 },
 "nbformat": 4,
 "nbformat_minor": 5
}
